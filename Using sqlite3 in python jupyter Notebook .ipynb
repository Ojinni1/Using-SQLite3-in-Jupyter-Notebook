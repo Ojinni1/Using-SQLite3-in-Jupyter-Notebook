{
 "cells": [
  {
   "cell_type": "code",
   "execution_count": 17,
   "id": "06199674",
   "metadata": {},
   "outputs": [],
   "source": [
    "import  sqlite3\n",
    "\n",
    "import pandas as pd"
   ]
  },
  {
   "cell_type": "code",
   "execution_count": 18,
   "id": "e548faa2",
   "metadata": {},
   "outputs": [],
   "source": [
    "# create a database \n",
    "con = sqlite3.connect('my_movie.db') \n",
    "\n",
    "cur = con.cursor()"
   ]
  },
  {
   "cell_type": "code",
   "execution_count": 19,
   "id": "4ccc0cc9",
   "metadata": {},
   "outputs": [],
   "source": [
    "query = cur.execute(\"\"\"create table action_movies(\n",
    "                    title char(2),\n",
    "                    year_released date(4),\n",
    "                    budget numeric(6,1),\n",
    "                    star char(3));\"\"\")"
   ]
  },
  {
   "cell_type": "code",
   "execution_count": 20,
   "id": "66b1bf42",
   "metadata": {},
   "outputs": [
    {
     "data": {
      "text/plain": [
       "<sqlite3.Cursor at 0x7fe07ac3d260>"
      ]
     },
     "execution_count": 20,
     "metadata": {},
     "output_type": "execute_result"
    }
   ],
   "source": [
    "cur.execute(\"insert into action_movies values('avatar','2004',450000, 'Michael Ann'),('Apocalypto','2005',75000, 'Juan');\")\n",
    "\n",
    "\n"
   ]
  },
  {
   "cell_type": "code",
   "execution_count": 21,
   "id": "ba808b26",
   "metadata": {},
   "outputs": [
    {
     "data": {
      "text/html": [
       "<div>\n",
       "<style scoped>\n",
       "    .dataframe tbody tr th:only-of-type {\n",
       "        vertical-align: middle;\n",
       "    }\n",
       "\n",
       "    .dataframe tbody tr th {\n",
       "        vertical-align: top;\n",
       "    }\n",
       "\n",
       "    .dataframe thead th {\n",
       "        text-align: right;\n",
       "    }\n",
       "</style>\n",
       "<table border=\"1\" class=\"dataframe\">\n",
       "  <thead>\n",
       "    <tr style=\"text-align: right;\">\n",
       "      <th></th>\n",
       "      <th>title</th>\n",
       "      <th>year_released</th>\n",
       "      <th>budget</th>\n",
       "      <th>star</th>\n",
       "    </tr>\n",
       "  </thead>\n",
       "  <tbody>\n",
       "    <tr>\n",
       "      <th>0</th>\n",
       "      <td>avatar</td>\n",
       "      <td>2004</td>\n",
       "      <td>450000</td>\n",
       "      <td>Michael Ann</td>\n",
       "    </tr>\n",
       "    <tr>\n",
       "      <th>1</th>\n",
       "      <td>Apocalypto</td>\n",
       "      <td>2005</td>\n",
       "      <td>75000</td>\n",
       "      <td>Juan</td>\n",
       "    </tr>\n",
       "  </tbody>\n",
       "</table>\n",
       "</div>"
      ],
      "text/plain": [
       "        title  year_released  budget         star\n",
       "0      avatar           2004  450000  Michael Ann\n",
       "1  Apocalypto           2005   75000         Juan"
      ]
     },
     "execution_count": 21,
     "metadata": {},
     "output_type": "execute_result"
    }
   ],
   "source": [
    "query = ('select * from action_movies;')\n",
    "sqlDF = pd.read_sql_query(query, con)\n",
    "\n",
    "sqlDF"
   ]
  },
  {
   "cell_type": "code",
   "execution_count": null,
   "id": "18098bf2",
   "metadata": {},
   "outputs": [],
   "source": []
  }
 ],
 "metadata": {
  "kernelspec": {
   "display_name": "Python 3 (ipykernel)",
   "language": "python",
   "name": "python3"
  },
  "language_info": {
   "codemirror_mode": {
    "name": "ipython",
    "version": 3
   },
   "file_extension": ".py",
   "mimetype": "text/x-python",
   "name": "python",
   "nbconvert_exporter": "python",
   "pygments_lexer": "ipython3",
   "version": "3.8.2"
  }
 },
 "nbformat": 4,
 "nbformat_minor": 5
}
